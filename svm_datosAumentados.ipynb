{
 "cells": [
  {
   "cell_type": "code",
   "execution_count": 2,
   "id": "07549d8a",
   "metadata": {},
   "outputs": [],
   "source": [
    "import h5py\n",
    "import cv2\n",
    "import numpy as np\n",
    "import pandas as pd\n",
    "from sklearn.model_selection import train_test_split\n",
    "from sklearn.model_selection import GridSearchCV\n",
    "from sklearn import svm\n",
    "from sklearn.metrics import accuracy_score, precision_score, recall_score, f1_score, make_scorer\n",
    "from sklearn.metrics import confusion_matrix\n",
    "import matplotlib.pyplot as plt\n",
    "import seaborn as sn\n",
    "from sklearn.model_selection import cross_validate, KFold"
   ]
  },
  {
   "cell_type": "code",
   "execution_count": 3,
   "id": "2734f058",
   "metadata": {},
   "outputs": [],
   "source": [
    "test_size    = 0.20\n",
    "h5_color     = 'C:/Users/JOSE/Documents/Septimo/Mineria/Image_processing/Dataset_transformado_lab/color_features.h5'\n",
    "h5_colorLb   = 'C:/Users/JOSE/Documents/Septimo/Mineria/Image_processing/Dataset_transformado_lab/color_features_labels.h5'\n",
    "h5_texture   = 'C:/Users/JOSE/Documents/Septimo/Mineria/Image_processing/Dataset_transformado_lab/textural_features.h5'\n",
    "h5_textureLb = 'C:/Users/JOSE/Documents/Septimo/Mineria/Image_processing/Dataset_transformado_lab/textural_features_labels.h5'\n",
    "scoring      = {'accuracy' : make_scorer(accuracy_score),\n",
    "                'f1_score' : make_scorer(f1_score, average = 'weighted'), \n",
    "                'precision' : make_scorer(precision_score, average = 'weighted'),\n",
    "                'recall' : make_scorer(recall_score, average = 'weighted')}"
   ]
  },
  {
   "cell_type": "code",
   "execution_count": 27,
   "id": "19d6315c",
   "metadata": {},
   "outputs": [
    {
     "name": "stdout",
     "output_type": "stream",
     "text": [
      "features shape: (1186, 512)\n",
      "labels shape: (1186,)\n"
     ]
    }
   ],
   "source": [
    "#cargar los datos\n",
    "h5f_color   = h5py.File(h5_color, 'r')\n",
    "h5f_colorLb = h5py.File(h5_colorLb, 'r')\n",
    "\n",
    "color_features_string          = h5f_color['Pest_Color_Features']\n",
    "color_features_labels_string   = h5f_colorLb['Pest_Color_Features_Labels']\n",
    "\n",
    "color_features = np.array(color_features_string)\n",
    "color_features_labels  = np.array(color_features_labels_string)\n",
    "\n",
    "h5f_color.close()\n",
    "h5f_colorLb.close()\n",
    "\n",
    "print(\"features shape: {}\".format(color_features.shape))\n",
    "print(\"labels shape: {}\".format(color_features_labels.shape))"
   ]
  },
  {
   "cell_type": "code",
   "execution_count": 5,
   "id": "cdf42f2c",
   "metadata": {},
   "outputs": [
    {
     "name": "stdout",
     "output_type": "stream",
     "text": [
      "[STATUS] features shape: (1186, 13)\n",
      "[STATUS] labels shape: (1186,)\n",
      "[STATUS] training started...\n"
     ]
    }
   ],
   "source": [
    "h5f_texture  = h5py.File(h5_texture, 'r')\n",
    "h5f_textureLb = h5py.File(h5_textureLb, 'r')\n",
    "\n",
    "textural_features_string          = h5f_texture['Pest_Textural_Features']\n",
    "textural_features_labels_string   = h5f_textureLb['Pest_Textural_Features_Labels']\n",
    "\n",
    "textural_features = np.array(textural_features_string )\n",
    "textural_features_labels  = np.array(textural_features_labels_string)\n",
    "\n",
    "h5f_texture.close()\n",
    "h5f_textureLb.close()\n",
    "\n",
    "# verify the shape of the feature vector and labels\n",
    "print(\"[STATUS] features shape: {}\".format(textural_features.shape))\n",
    "print(\"[STATUS] labels shape: {}\".format(textural_features_labels.shape))\n",
    "\n",
    "print(\"[STATUS] training started...\")"
   ]
  },
  {
   "cell_type": "code",
   "execution_count": 6,
   "id": "c9256deb",
   "metadata": {},
   "outputs": [
    {
     "name": "stdout",
     "output_type": "stream",
     "text": [
      "[STATUS] features shape: (1186, 525)\n",
      "[STATUS] labels shape: (1186,)\n"
     ]
    }
   ],
   "source": [
    "global_features = np.hstack([color_features, textural_features])\n",
    "print(\"[STATUS] features shape: {}\".format(global_features.shape))\n",
    "print(\"[STATUS] labels shape: {}\".format(textural_features_labels.shape))"
   ]
  },
  {
   "cell_type": "code",
   "execution_count": 11,
   "id": "140eb508",
   "metadata": {},
   "outputs": [],
   "source": [
    "\"\"\"\n",
    "    Se implementa la separación de las correspondientes caracteristicas considerando su importancia\n",
    "\"\"\"\n",
    "X = global_features\n",
    "y = color_features_labels"
   ]
  },
  {
   "cell_type": "code",
   "execution_count": 12,
   "id": "38d3a662",
   "metadata": {},
   "outputs": [
    {
     "data": {
      "text/plain": [
       "((948, 525), (238, 525))"
      ]
     },
     "execution_count": 12,
     "metadata": {},
     "output_type": "execute_result"
    }
   ],
   "source": [
    "X_train, X_test, y_train, y_test = train_test_split(\n",
    "                                                    X,\n",
    "                                                    y,\n",
    "                                                    test_size   = test_size,\n",
    "                                                    random_state = 15)\n",
    "\n",
    "X_train.shape, X_test.shape"
   ]
  },
  {
   "cell_type": "code",
   "execution_count": 13,
   "id": "d68523eb",
   "metadata": {},
   "outputs": [],
   "source": [
    "\"\"\"\n",
    "    Declaración del kernel a implementar\n",
    "\"\"\"\n",
    "sigmoid_param_grid = {\n",
    "        \"kernel\": [\"sigmoid\"],\n",
    "        \"gamma\": [\"auto\", \"scale\"],\n",
    "        \"C\": [0.0001, 0.001, 0.1, 1, 10, 100, 1000],\n",
    "        \"decision_function_shape\": ['ovo', 'ovr']\n",
    "}"
   ]
  },
  {
   "cell_type": "code",
   "execution_count": 14,
   "id": "3f56af8c",
   "metadata": {},
   "outputs": [],
   "source": [
    "\"\"\"\n",
    "    En base al kernel declarado se corresponde implementar SVM con el tipo de kernel\n",
    "    sigmoid.\n",
    "    Para posterior empezar su entrenamiento correspondiente\n",
    "\"\"\"\n",
    "svm_sigmoid = GridSearchCV(svm.SVC(), sigmoid_param_grid)\n",
    "history = svm_sigmoid.fit(X_train,y_train)"
   ]
  },
  {
   "cell_type": "code",
   "execution_count": 15,
   "id": "048a3b71",
   "metadata": {},
   "outputs": [
    {
     "name": "stdout",
     "output_type": "stream",
     "text": [
      "Accuracy (Sigmoid Kernel):  93.70\n",
      "F1 (Sigmoid Kernel):  93.63\n",
      "Precision (Sigmoid Kernel):  93.61\n",
      "Recall (Sigmoid Kernel):  93.70\n"
     ]
    }
   ],
   "source": [
    "\"\"\"\n",
    "    En base al modelo entrenado se corresponde en obtener las metricas correspondientes del modelo\n",
    "\"\"\"\n",
    "y_pred = svm_sigmoid.predict(X_test)\n",
    "accuracy = accuracy_score(y_test, y_pred)\n",
    "precision = precision_score(y_test, y_pred, average='weighted')\n",
    "recall = recall_score(y_test, y_pred, average='weighted')\n",
    "f1 = f1_score(y_test, y_pred, average='weighted')\n",
    "print('Accuracy (Sigmoid Kernel): ', \"%.2f\" % (accuracy*100))\n",
    "print('F1 (Sigmoid Kernel): ', \"%.2f\" % (f1*100))\n",
    "print('Precision (Sigmoid Kernel): ', \"%.2f\" % (precision*100))\n",
    "print('Recall (Sigmoid Kernel): ', \"%.2f\" % (recall*100))"
   ]
  },
  {
   "cell_type": "markdown",
   "id": "3fc059e4",
   "metadata": {},
   "source": [
    "Al observar la implementación correspondiente del modelo se ha logrado obtener como desarrollo final. Considerando las cuatro clases de pestes presentes se ha obtenido que el modelo puede realizar una predicción correspondiente del 93.70% de los datos que este reciba. Donde se determina que este modelo puede llegar a detectar en ese porcentaje y clasificar cada tipo de plaga o diferenciar entre hojas sanas o enfermas con las plagas mecionadas. a su vez se ha determinado que este tiene una precision referente al 93.61% en el reconocimiento de plagas"
   ]
  },
  {
   "cell_type": "markdown",
   "id": "3b970621",
   "metadata": {},
   "source": [
    "# Cross Validation"
   ]
  },
  {
   "cell_type": "code",
   "execution_count": 16,
   "id": "ef908142",
   "metadata": {},
   "outputs": [
    {
     "name": "stdout",
     "output_type": "stream",
     "text": [
      "Accuracy (Sigmoid Kernel):  93.88\n",
      "F1 (Sigmoid Kernel):  93.88\n",
      "Precision (Sigmoid Kernel):  94.12\n",
      "Recall (Sigmoid Kernel):  93.88\n"
     ]
    }
   ],
   "source": [
    "\"\"\"\n",
    "    Se implementa cross validate para verificar la funcionalidad y efectividad del modelo correspondiente.\n",
    "\"\"\"\n",
    "results = cross_validate(estimator=svm_sigmoid, X=X_train, y=y_train, cv=8, scoring=scoring)\n",
    "\n",
    "print('Accuracy (Sigmoid Kernel): ', \"%.2f\" % (np.mean(results['test_accuracy'])*100))\n",
    "print('F1 (Sigmoid Kernel): ', \"%.2f\" % (np.mean(results['test_f1_score'])*100))\n",
    "print('Precision (Sigmoid Kernel): ', \"%.2f\" % (np.mean(results['test_precision'])*100))\n",
    "print('Recall (Sigmoid Kernel): ', \"%.2f\" % (np.mean(results['test_recall'])*100))"
   ]
  },
  {
   "cell_type": "markdown",
   "id": "7b9dc8ca",
   "metadata": {},
   "source": [
    "Como se conoce en este caso se corresponde considerar que al aplicar cross validate el modelo realizar las correspondientes pruebas para validar la información que este procesa. Por lo cual al implementar esta función se determina que el modelo puede determinar con una exactitud del 93.88 % la clasificación correspondiente en las multiples clases que se han presentado. Tanto como para Blackrot, Esca, Leaf Blight las cuales son plagas de las vid, como para hojas sanas."
   ]
  },
  {
   "cell_type": "markdown",
   "id": "c2661b93",
   "metadata": {},
   "source": [
    "# Matriz de confusión"
   ]
  },
  {
   "cell_type": "code",
   "execution_count": 17,
   "id": "bb47e7ba",
   "metadata": {},
   "outputs": [],
   "source": [
    "import pandas as pd\n",
    "import seaborn as sn\n",
    "import matplotlib.pyplot as plt"
   ]
  },
  {
   "cell_type": "code",
   "execution_count": 21,
   "id": "aacbb2e0",
   "metadata": {},
   "outputs": [
    {
     "data": {
      "image/png": "[encoded data removed]",
      "text/plain": [
       "<Figure size 432x288 with 2 Axes>"
      ]
     },
     "metadata": {
      "needs_background": "light"
     },
     "output_type": "display_data"
    }
   ],
   "source": [
    "confusion_matrix = pd.crosstab(y_test, y_pred, rownames=['Actual'], colnames=['Predicted'])\n",
    "sn.heatmap(confusion_matrix, annot=True)\n",
    "plt.show()"
   ]
  },
  {
   "cell_type": "markdown",
   "id": "5c34c43e",
   "metadata": {},
   "source": [
    "Al implementar la correspondiente matriz de confusión se determina los siguientes valores para su analisis. Para la clase de Blackrot se ha determinado el valor de 0, para la clase de Esca se ha detemrinado el valor de 1, para la clase de Leaf Blight se determino el valor de 2 y finalizando con la clase sana con valor de 3. Para lo cual el modelo ha determinado que al momento de ignresar las hojas con plaga ha determinado que 47 hojas con blackrot las ha predicho como verdadera. A su vez ha determinado que 4 hojas que han ingresado al modelo las ha determinado como Esca, a 2 hojas de blackrot las ha determinado como leaf blight y por ultimo 2 hojas las ha determinado como sanas. En caso de la clase de Esca ha logrado determinar que 54 hojas que han ingresado con esa plaga las 54 las ha predicho como la plaga que corresponde. Dando como resultado la clasificación de 6 hojas entrantes como Esca, dando resultado Blackrot. Por utlimo ha determinado la plaga de Leaf Bligh con una efectividad de 56 hojas entrantes y predichas de la misma clase, diferenciando  unicamente una hoja como sana. Por ultimo la clase de hoja sana ha determinado que de las 66 hojas ingresadas las 66 las ha predicho como hojas sanas."
   ]
  }
 ],
 "metadata": {
  "kernelspec": {
   "display_name": "Python 3 (ipykernel)",
   "language": "python",
   "name": "python3"
  },
  "language_info": {
   "codemirror_mode": {
    "name": "ipython",
    "version": 3
   },
   "file_extension": ".py",
   "mimetype": "text/x-python",
   "name": "python",
   "nbconvert_exporter": "python",
   "pygments_lexer": "ipython3",
   "version": "3.9.12"
  }
 },
 "nbformat": 4,
 "nbformat_minor": 5
}
