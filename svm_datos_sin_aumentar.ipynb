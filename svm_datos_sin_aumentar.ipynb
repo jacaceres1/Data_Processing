{
 "cells": [
  {
   "cell_type": "code",
   "execution_count": 2,
   "id": "8adf9d2e",
   "metadata": {},
   "outputs": [],
   "source": [
    "import h5py\n",
    "import cv2\n",
    "import numpy as np\n",
    "import pandas as pd\n",
    "from sklearn.model_selection import train_test_split\n",
    "from sklearn.model_selection import GridSearchCV\n",
    "from sklearn import svm\n",
    "from sklearn.metrics import accuracy_score, precision_score, recall_score, f1_score, make_scorer\n",
    "from sklearn.metrics import confusion_matrix\n",
    "import matplotlib.pyplot as plt\n",
    "import seaborn as sn\n",
    "from sklearn.model_selection import cross_validate, KFold"
   ]
  },
  {
   "cell_type": "code",
   "execution_count": 3,
   "id": "f4695c25",
   "metadata": {},
   "outputs": [],
   "source": [
    "test_size    = 0.20\n",
    "h5_color     = 'C:/Users/JOSE/Documents/Septimo/Mineria/Image_processing/Datos_transfromados_Sin/color_features.h5'\n",
    "h5_colorLb   = 'C:/Users/JOSE/Documents/Septimo/Mineria/Image_processing/Datos_transfromados_Sin/color_features_labels.h5'\n",
    "h5_texture   = 'C:/Users/JOSE/Documents/Septimo/Mineria/Image_processing/Datos_transfromados_Sin/textural_features.h5'\n",
    "h5_textureLb = 'C:/Users/JOSE/Documents/Septimo/Mineria/Image_processing/Datos_transfromados_Sin/textural_features_labels.h5'\n",
    "scoring      = {'accuracy' : make_scorer(accuracy_score),\n",
    "                'f1_score' : make_scorer(f1_score, average = 'weighted'), \n",
    "                'precision' : make_scorer(precision_score, average = 'weighted'),\n",
    "                'recall' : make_scorer(recall_score, average = 'weighted')}"
   ]
  },
  {
   "cell_type": "code",
   "execution_count": 4,
   "id": "8938503b",
   "metadata": {},
   "outputs": [
    {
     "name": "stdout",
     "output_type": "stream",
     "text": [
      "[STATUS] features shape: (400, 512)\n",
      "[STATUS] labels shape: (400,)\n"
     ]
    }
   ],
   "source": [
    "#cargar los datos\n",
    "h5f_color   = h5py.File(h5_color, 'r')\n",
    "h5f_colorLb = h5py.File(h5_colorLb, 'r')\n",
    "\n",
    "color_features_string          = h5f_color['Pest_Color_Features']\n",
    "color_features_labels_string   = h5f_colorLb['Pest_Color_Features_Labels']\n",
    "\n",
    "color_features = np.array(color_features_string)\n",
    "color_features_labels  = np.array(color_features_labels_string)\n",
    "\n",
    "h5f_color.close()\n",
    "h5f_colorLb.close()\n",
    "\n",
    "# verify the shape of the feature vector and labels\n",
    "print(\"[STATUS] features shape: {}\".format(color_features.shape))\n",
    "print(\"[STATUS] labels shape: {}\".format(color_features_labels.shape))"
   ]
  },
  {
   "cell_type": "code",
   "execution_count": 5,
   "id": "cf366318",
   "metadata": {},
   "outputs": [
    {
     "name": "stdout",
     "output_type": "stream",
     "text": [
      "[STATUS] features shape: (400, 13)\n",
      "[STATUS] labels shape: (400,)\n",
      "[STATUS] training started...\n"
     ]
    }
   ],
   "source": [
    "h5f_texture  = h5py.File(h5_texture, 'r')\n",
    "h5f_textureLb = h5py.File(h5_textureLb, 'r')\n",
    "\n",
    "textural_features_string          = h5f_texture['Pest_Textural_Features']\n",
    "textural_features_labels_string   = h5f_textureLb['Pest_Textural_Features_Labels']\n",
    "\n",
    "textural_features = np.array(textural_features_string )\n",
    "textural_features_labels  = np.array(textural_features_labels_string)\n",
    "\n",
    "h5f_texture.close()\n",
    "h5f_textureLb.close()\n",
    "\n",
    "# verify the shape of the feature vector and labels\n",
    "print(\"[STATUS] features shape: {}\".format(textural_features.shape))\n",
    "print(\"[STATUS] labels shape: {}\".format(textural_features_labels.shape))\n",
    "\n",
    "print(\"[STATUS] training started...\")"
   ]
  },
  {
   "cell_type": "code",
   "execution_count": 6,
   "id": "2a2e24fe",
   "metadata": {},
   "outputs": [
    {
     "name": "stdout",
     "output_type": "stream",
     "text": [
      "[STATUS] features shape: (400, 525)\n",
      "[STATUS] labels shape: (400,)\n"
     ]
    }
   ],
   "source": [
    "global_features = np.hstack([color_features, textural_features])\n",
    "print(\"[STATUS] features shape: {}\".format(global_features.shape))\n",
    "print(\"[STATUS] labels shape: {}\".format(textural_features_labels.shape))"
   ]
  },
  {
   "cell_type": "code",
   "execution_count": 7,
   "id": "2991928d",
   "metadata": {},
   "outputs": [],
   "source": [
    "# reconocer x y y\n",
    "X = global_features\n",
    "y = color_features_labels"
   ]
  },
  {
   "cell_type": "code",
   "execution_count": 8,
   "id": "61fa0135",
   "metadata": {},
   "outputs": [
    {
     "data": {
      "text/plain": [
       "((320, 525), (80, 525))"
      ]
     },
     "execution_count": 8,
     "metadata": {},
     "output_type": "execute_result"
    }
   ],
   "source": [
    "X_train, X_test, y_train, y_test = train_test_split(X, y,\n",
    "                                        test_size   = test_size,\n",
    "                                        random_state = 15)\n",
    "\n",
    "X_train.shape, X_test.shape"
   ]
  },
  {
   "cell_type": "code",
   "execution_count": 9,
   "id": "4682d510",
   "metadata": {},
   "outputs": [],
   "source": [
    "#svm\n",
    "sigmoid_param_grid = {\n",
    "        \"kernel\": [\"sigmoid\"],\n",
    "        \"gamma\": [\"auto\", \"scale\"],\n",
    "        \"C\": [0.0001, 0.001, 0.1, 1, 10, 100, 1000],\n",
    "        \"decision_function_shape\": ['ovo', 'ovr']\n",
    "}"
   ]
  },
  {
   "cell_type": "code",
   "execution_count": 12,
   "id": "8e032938",
   "metadata": {},
   "outputs": [],
   "source": [
    "svm_sigmoid = GridSearchCV(svm.SVC(), sigmoid_param_grid)\n",
    "history = svm_sigmoid.fit(X_train,y_train)"
   ]
  },
  {
   "cell_type": "code",
   "execution_count": 13,
   "id": "aa7cfbc9",
   "metadata": {},
   "outputs": [
    {
     "name": "stdout",
     "output_type": "stream",
     "text": [
      "Accuracy (Sigmoid Kernel):  91.25\n",
      "F1 (Sigmoid Kernel):  91.31\n",
      "Precision (Sigmoid Kernel):  91.42\n",
      "Recall (Sigmoid Kernel):  91.25\n"
     ]
    }
   ],
   "source": [
    "y_pred = svm_sigmoid.predict(X_test)\n",
    "accuracy = accuracy_score(y_test, y_pred)\n",
    "precision = precision_score(y_test, y_pred, average='weighted')\n",
    "recall = recall_score(y_test, y_pred, average='weighted')\n",
    "f1 = f1_score(y_test, y_pred, average='weighted')\n",
    "print('Accuracy (Sigmoid Kernel): ', \"%.2f\" % (accuracy*100))\n",
    "print('F1 (Sigmoid Kernel): ', \"%.2f\" % (f1*100))\n",
    "print('Precision (Sigmoid Kernel): ', \"%.2f\" % (precision*100))\n",
    "print('Recall (Sigmoid Kernel): ', \"%.2f\" % (recall*100))"
   ]
  },
  {
   "cell_type": "markdown",
   "id": "22056539",
   "metadata": {},
   "source": [
    "# Cross Validation"
   ]
  },
  {
   "cell_type": "code",
   "execution_count": 14,
   "id": "da1f7c27",
   "metadata": {},
   "outputs": [
    {
     "name": "stdout",
     "output_type": "stream",
     "text": [
      "Accuracy (Sigmoid Kernel):  88.44\n",
      "F1 (Sigmoid Kernel):  88.36\n",
      "Precision (Sigmoid Kernel):  89.12\n",
      "Recall (Sigmoid Kernel):  88.44\n"
     ]
    }
   ],
   "source": [
    "results = cross_validate(estimator=svm_sigmoid, X=X_train, y=y_train, cv=8, scoring=scoring)\n",
    "\n",
    "print('Accuracy (Sigmoid Kernel): ', \"%.2f\" % (np.mean(results['test_accuracy'])*100))\n",
    "print('F1 (Sigmoid Kernel): ', \"%.2f\" % (np.mean(results['test_f1_score'])*100))\n",
    "print('Precision (Sigmoid Kernel): ', \"%.2f\" % (np.mean(results['test_precision'])*100))\n",
    "print('Recall (Sigmoid Kernel): ', \"%.2f\" % (np.mean(results['test_recall'])*100))"
   ]
  },
  {
   "cell_type": "markdown",
   "id": "536a76ea",
   "metadata": {},
   "source": [
    "# Matriz de Confusión"
   ]
  },
  {
   "cell_type": "code",
   "execution_count": 16,
   "id": "8132581a",
   "metadata": {},
   "outputs": [],
   "source": [
    "import pandas as pd\n",
    "import seaborn as sn\n",
    "import matplotlib.pyplot as plt"
   ]
  },
  {
   "cell_type": "code",
   "execution_count": 17,
   "id": "9bb43792",
   "metadata": {},
   "outputs": [
    {
     "data": {
      "image/png": "[encoded data removed]",
      "text/plain": [
       "<Figure size 432x288 with 2 Axes>"
      ]
     },
     "metadata": {
      "needs_background": "light"
     },
     "output_type": "display_data"
    }
   ],
   "source": [
    "confusion_matrix = pd.crosstab(y_test, y_pred, rownames=['Actual'], colnames=['Predicted'])\n",
    "sn.heatmap(confusion_matrix, annot=True)\n",
    "plt.show()"
   ]
  }
 ],
 "metadata": {
  "kernelspec": {
   "display_name": "Python 3 (ipykernel)",
   "language": "python",
   "name": "python3"
  },
  "language_info": {
   "codemirror_mode": {
    "name": "ipython",
    "version": 3
   },
   "file_extension": ".py",
   "mimetype": "text/x-python",
   "name": "python",
   "nbconvert_exporter": "python",
   "pygments_lexer": "ipython3",
   "version": "3.9.12"
  }
 },
 "nbformat": 4,
 "nbformat_minor": 5
}
