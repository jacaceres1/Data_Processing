{
  "cells": [
    {
      "cell_type": "code",
      "source": [
        "! nvidia-smi"
      ],
      "metadata": {
        "colab": {
          "base_uri": "https://localhost:8080/"
        },
        "id": "4yonXx4khFY8",
        "outputId": "2e662646-b958-45de-b5e9-b1f205f6bde4"
      },
      "id": "4yonXx4khFY8",
      "execution_count": null,
      "outputs": [
        {
          "output_type": "stream",
          "name": "stdout",
          "text": [
            "Tue Aug 23 02:25:38 2022       \n",
            "+-----------------------------------------------------------------------------+\n",
            "| NVIDIA-SMI 460.32.03    Driver Version: 460.32.03    CUDA Version: 11.2     |\n",
            "|-------------------------------+----------------------+----------------------+\n",
            "| GPU  Name        Persistence-M| Bus-Id        Disp.A | Volatile Uncorr. ECC |\n",
            "| Fan  Temp  Perf  Pwr:Usage/Cap|         Memory-Usage | GPU-Util  Compute M. |\n",
            "|                               |                      |               MIG M. |\n",
            "|===============================+======================+======================|\n",
            "|   0  Tesla T4            Off  | 00000000:00:04.0 Off |                    0 |\n",
            "| N/A   55C    P8    10W /  70W |      0MiB / 15109MiB |      0%      Default |\n",
            "|                               |                      |                  N/A |\n",
            "+-------------------------------+----------------------+----------------------+\n",
            "                                                                               \n",
            "+-----------------------------------------------------------------------------+\n",
            "| Processes:                                                                  |\n",
            "|  GPU   GI   CI        PID   Type   Process name                  GPU Memory |\n",
            "|        ID   ID                                                   Usage      |\n",
            "|=============================================================================|\n",
            "|  No running processes found                                                 |\n",
            "+-----------------------------------------------------------------------------+\n"
          ]
        }
      ]
    },
    {
      "cell_type": "code",
      "source": [
        "from google.colab import drive\n",
        "drive.mount('/content/drive')"
      ],
      "metadata": {
        "colab": {
          "base_uri": "https://localhost:8080/"
        },
        "id": "ziX5aybVhSvc",
        "outputId": "6c5cd6c6-7083-4fcb-ed31-d373317b54f8"
      },
      "id": "ziX5aybVhSvc",
      "execution_count": null,
      "outputs": [
        {
          "output_type": "stream",
          "name": "stdout",
          "text": [
            "Mounted at /content/drive\n"
          ]
        }
      ]
    },
    {
      "cell_type": "code",
      "execution_count": null,
      "id": "07549d8a",
      "metadata": {
        "id": "07549d8a"
      },
      "outputs": [],
      "source": [
        "import h5py\n",
        "import cv2\n",
        "import numpy as np\n",
        "import pandas as pd\n",
        "from sklearn.model_selection import train_test_split\n",
        "from sklearn.model_selection import GridSearchCV\n",
        "from sklearn import svm\n",
        "from sklearn.metrics import accuracy_score, precision_score, recall_score, f1_score, make_scorer\n",
        "from sklearn.metrics import confusion_matrix\n",
        "import matplotlib.pyplot as plt\n",
        "import seaborn as sn\n",
        "from sklearn.model_selection import cross_validate, KFold"
      ]
    },
    {
      "cell_type": "code",
      "execution_count": null,
      "id": "2734f058",
      "metadata": {
        "id": "2734f058"
      },
      "outputs": [],
      "source": [
        "test_size    = 0.20\n",
        "h5_color     = '/content/drive/MyDrive/Mineria/DatosFinales/Dataset_Transformado/Datos_aumentados/color_features.h5'\n",
        "h5_colorLb   = '/content/drive/MyDrive/Mineria/DatosFinales/Dataset_Transformado/Datos_aumentados/color_features_labels.h5'\n",
        "h5_texture   = '/content/drive/MyDrive/Mineria/DatosFinales/Dataset_Transformado/Datos_aumentados/textural_features.h5'\n",
        "h5_textureLb = '/content/drive/MyDrive/Mineria/DatosFinales/Dataset_Transformado/Datos_aumentados/textural_features_labels.h5'\n",
        "scoring      = {'accuracy' : make_scorer(accuracy_score),\n",
        "                'f1_score' : make_scorer(f1_score, average = 'weighted'), \n",
        "                'precision' : make_scorer(precision_score, average = 'weighted'),\n",
        "                'recall' : make_scorer(recall_score, average = 'weighted')}"
      ]
    },
    {
      "cell_type": "code",
      "execution_count": null,
      "id": "19d6315c",
      "metadata": {
        "id": "19d6315c",
        "outputId": "cc257353-d510-46bb-8d88-6332b489b501",
        "colab": {
          "base_uri": "https://localhost:8080/"
        }
      },
      "outputs": [
        {
          "output_type": "stream",
          "name": "stdout",
          "text": [
            "features shape: (10695, 512)\n",
            "labels shape: (10695,)\n"
          ]
        }
      ],
      "source": [
        "#cargar los datos\n",
        "h5f_color   = h5py.File(h5_color, 'r')\n",
        "h5f_colorLb = h5py.File(h5_colorLb, 'r')\n",
        "\n",
        "color_features_string          = h5f_color['Pest_Color_Features']\n",
        "color_features_labels_string   = h5f_colorLb['Pest_Color_Features_Labels']\n",
        "\n",
        "color_features = np.array(color_features_string)\n",
        "color_features_labels  = np.array(color_features_labels_string)\n",
        "\n",
        "h5f_color.close()\n",
        "h5f_colorLb.close()\n",
        "\n",
        "print(\"features shape: {}\".format(color_features.shape))\n",
        "print(\"labels shape: {}\".format(color_features_labels.shape))"
      ]
    },
    {
      "cell_type": "code",
      "execution_count": null,
      "id": "cdf42f2c",
      "metadata": {
        "id": "cdf42f2c",
        "outputId": "9e8ec38c-f396-453a-c665-d55117ddb470",
        "colab": {
          "base_uri": "https://localhost:8080/"
        }
      },
      "outputs": [
        {
          "output_type": "stream",
          "name": "stdout",
          "text": [
            "[STATUS] features shape: (10695, 13)\n",
            "[STATUS] labels shape: (10695,)\n",
            "[STATUS] training started...\n"
          ]
        }
      ],
      "source": [
        "h5f_texture  = h5py.File(h5_texture, 'r')\n",
        "h5f_textureLb = h5py.File(h5_textureLb, 'r')\n",
        "\n",
        "textural_features_string          = h5f_texture['Pest_Textural_Features']\n",
        "textural_features_labels_string   = h5f_textureLb['Pest_Textural_Features_Labels']\n",
        "\n",
        "textural_features = np.array(textural_features_string )\n",
        "textural_features_labels  = np.array(textural_features_labels_string)\n",
        "\n",
        "h5f_texture.close()\n",
        "h5f_textureLb.close()\n",
        "\n",
        "# verify the shape of the feature vector and labels\n",
        "print(\"[STATUS] features shape: {}\".format(textural_features.shape))\n",
        "print(\"[STATUS] labels shape: {}\".format(textural_features_labels.shape))\n",
        "\n",
        "print(\"[STATUS] training started...\")"
      ]
    },
    {
      "cell_type": "code",
      "execution_count": null,
      "id": "c9256deb",
      "metadata": {
        "id": "c9256deb",
        "outputId": "6cf1f836-c67c-45c3-8772-e95fbcd7641b",
        "colab": {
          "base_uri": "https://localhost:8080/"
        }
      },
      "outputs": [
        {
          "output_type": "stream",
          "name": "stdout",
          "text": [
            "[STATUS] features shape: (10695, 525)\n",
            "[STATUS] labels shape: (10695,)\n"
          ]
        }
      ],
      "source": [
        "global_features = np.hstack([color_features, textural_features])\n",
        "print(\"[STATUS] features shape: {}\".format(global_features.shape))\n",
        "print(\"[STATUS] labels shape: {}\".format(textural_features_labels.shape))"
      ]
    },
    {
      "cell_type": "code",
      "execution_count": null,
      "id": "140eb508",
      "metadata": {
        "id": "140eb508"
      },
      "outputs": [],
      "source": [
        "\"\"\"\n",
        "    Se implementa la separación de las correspondientes caracteristicas considerando su importancia\n",
        "\"\"\"\n",
        "X = global_features\n",
        "y = color_features_labels"
      ]
    },
    {
      "cell_type": "code",
      "execution_count": null,
      "id": "38d3a662",
      "metadata": {
        "id": "38d3a662",
        "outputId": "32e4cfff-af7d-4983-de9d-43c900c2cc3d",
        "colab": {
          "base_uri": "https://localhost:8080/"
        }
      },
      "outputs": [
        {
          "output_type": "execute_result",
          "data": {
            "text/plain": [
              "((8556, 525), (2139, 525))"
            ]
          },
          "metadata": {},
          "execution_count": 10
        }
      ],
      "source": [
        "X_train, X_test, y_train, y_test = train_test_split(\n",
        "                                                    X,\n",
        "                                                    y,\n",
        "                                                    test_size   = test_size,\n",
        "                                                    random_state = 15)\n",
        "\n",
        "X_train.shape, X_test.shape"
      ]
    },
    {
      "cell_type": "code",
      "execution_count": null,
      "id": "d68523eb",
      "metadata": {
        "id": "d68523eb"
      },
      "outputs": [],
      "source": [
        "\"\"\"\n",
        "    Declaración del kernel a implementar\n",
        "\"\"\"\n",
        "sigmoid_param_grid = {\n",
        "        \"kernel\": [\"sigmoid\"],\n",
        "        \"gamma\": [\"auto\", \"scale\"],\n",
        "        \"C\": [0.0001, 0.001, 0.1, 1, 10, 100, 1000],\n",
        "        \"decision_function_shape\": ['ovo', 'ovr']\n",
        "}"
      ]
    },
    {
      "cell_type": "code",
      "execution_count": null,
      "id": "3f56af8c",
      "metadata": {
        "id": "3f56af8c"
      },
      "outputs": [],
      "source": [
        "\"\"\"\n",
        "    En base al kernel declarado se corresponde implementar SVM con el tipo de kernel\n",
        "    sigmoid.\n",
        "    Para posterior empezar su entrenamiento correspondiente\n",
        "\"\"\"\n",
        "svm_sigmoid = GridSearchCV(svm.SVC(), sigmoid_param_grid)\n",
        "history = svm_sigmoid.fit(X_train,y_train)"
      ]
    },
    {
      "cell_type": "code",
      "execution_count": null,
      "id": "048a3b71",
      "metadata": {
        "id": "048a3b71",
        "outputId": "434c94ce-4177-499e-c062-1d42ab85765e",
        "colab": {
          "base_uri": "https://localhost:8080/"
        }
      },
      "outputs": [
        {
          "output_type": "stream",
          "name": "stdout",
          "text": [
            "Accuracy (Sigmoid Kernel):  92.10\n",
            "F1 (Sigmoid Kernel):  92.08\n",
            "Precision (Sigmoid Kernel):  92.06\n",
            "Recall (Sigmoid Kernel):  92.10\n"
          ]
        }
      ],
      "source": [
        "\"\"\"\n",
        "    En base al modelo entrenado se corresponde en obtener las metricas correspondientes del modelo\n",
        "\"\"\"\n",
        "y_pred = svm_sigmoid.predict(X_test)\n",
        "accuracy = accuracy_score(y_test, y_pred)\n",
        "precision = precision_score(y_test, y_pred, average='weighted')\n",
        "recall = recall_score(y_test, y_pred, average='weighted')\n",
        "f1 = f1_score(y_test, y_pred, average='weighted')\n",
        "print('Accuracy (Sigmoid Kernel): ', \"%.2f\" % (accuracy*100))\n",
        "print('F1 (Sigmoid Kernel): ', \"%.2f\" % (f1*100))\n",
        "print('Precision (Sigmoid Kernel): ', \"%.2f\" % (precision*100))\n",
        "print('Recall (Sigmoid Kernel): ', \"%.2f\" % (recall*100))"
      ]
    },
    {
      "cell_type": "markdown",
      "id": "0cc2f522",
      "metadata": {
        "id": "0cc2f522"
      },
      "source": [
        "# Cross Validation"
      ]
    },
    {
      "cell_type": "code",
      "execution_count": null,
      "id": "198f5416",
      "metadata": {
        "id": "198f5416",
        "outputId": "e57fa8ad-4fde-4d1f-c6ad-7743d67b768e",
        "colab": {
          "base_uri": "https://localhost:8080/"
        }
      },
      "outputs": [
        {
          "output_type": "stream",
          "name": "stdout",
          "text": [
            "Accuracy (Sigmoid Kernel):  91.57\n",
            "F1 (Sigmoid Kernel):  91.61\n",
            "Precision (Sigmoid Kernel):  91.71\n",
            "Recall (Sigmoid Kernel):  91.57\n"
          ]
        }
      ],
      "source": [
        "\"\"\"\n",
        "    Se implementa cross validate para verificar la funcionalidad y efectividad del modelo correspondiente.\n",
        "\"\"\"\n",
        "results = cross_validate(estimator=svm_sigmoid, X=X_train, y=y_train, cv=8, scoring=scoring)\n",
        "\n",
        "print('Accuracy (Sigmoid Kernel): ', \"%.2f\" % (np.mean(results['test_accuracy'])*100))\n",
        "print('F1 (Sigmoid Kernel): ', \"%.2f\" % (np.mean(results['test_f1_score'])*100))\n",
        "print('Precision (Sigmoid Kernel): ', \"%.2f\" % (np.mean(results['test_precision'])*100))\n",
        "print('Recall (Sigmoid Kernel): ', \"%.2f\" % (np.mean(results['test_recall'])*100))"
      ]
    },
    {
      "cell_type": "markdown",
      "id": "debee303",
      "metadata": {
        "id": "debee303"
      },
      "source": [
        "# Matriz de confusión"
      ]
    },
    {
      "cell_type": "code",
      "execution_count": null,
      "id": "73c4e301",
      "metadata": {
        "id": "73c4e301"
      },
      "outputs": [],
      "source": [
        "import pandas as pd\n",
        "import seaborn as sn\n",
        "import matplotlib.pyplot as plt"
      ]
    },
    {
      "cell_type": "code",
      "execution_count": null,
      "id": "d5b8ebc6",
      "metadata": {
        "id": "d5b8ebc6",
        "outputId": "a37d0942-f343-4a47-aa5c-e6090c4298f8"
      },
      "outputs": [
        {
          "data": {
            "image/png": "[encoded data removed]",
            "text/plain": [
              "<Figure size 432x288 with 2 Axes>"
            ]
          },
          "metadata": {
            "needs_background": "light"
          },
          "output_type": "display_data"
        }
      ],
      "source": [
        "confusion_matrix = pd.crosstab(y_test, y_pred, rownames=['Actual'], colnames=['Predicted'])\n",
        "sn.heatmap(confusion_matrix, annot=True)\n",
        "plt.show()"
      ]
    }
  ],
  "metadata": {
    "kernelspec": {
      "display_name": "Python 3 (ipykernel)",
      "language": "python",
      "name": "python3"
    },
    "language_info": {
      "codemirror_mode": {
        "name": "ipython",
        "version": 3
      },
      "file_extension": ".py",
      "mimetype": "text/x-python",
      "name": "python",
      "nbconvert_exporter": "python",
      "pygments_lexer": "ipython3",
      "version": "3.9.12"
    },
    "colab": {
      "name": "svm_datosAumentados.ipynb",
      "provenance": [],
      "collapsed_sections": []
    },
    "accelerator": "GPU",
    "gpuClass": "standard"
  },
  "nbformat": 4,
  "nbformat_minor": 5
}